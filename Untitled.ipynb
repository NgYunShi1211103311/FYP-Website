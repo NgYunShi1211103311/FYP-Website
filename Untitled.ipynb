{
 "cells": [
  {
   "cell_type": "code",
   "execution_count": null,
   "id": "2bf752f6-f31e-4226-8b96-62b1f45f7c2a",
   "metadata": {},
   "outputs": [
    {
     "ename": "",
     "evalue": "",
     "output_type": "error",
     "traceback": [
      "\u001b[1;31mRunning cells with 'Python 3.13.0' requires the ipykernel package.\n",
      "\u001b[1;31mRun the following command to install 'ipykernel' into the Python environment. \n",
      "\u001b[1;31mCommand: 'c:/Users/Lenovo/AppData/Local/Programs/Python/Python313/python.exe -m pip install ipykernel -U --user --force-reinstall'"
     ]
    }
   ],
   "source": [
    "import pandas as pd\n",
    "import numpy as np\n",
    "import matplotlib.pyplot as plt\n",
    "import seaborn as sns"
   ]
  },
  {
   "cell_type": "code",
   "execution_count": 2,
   "id": "15752087-6f9a-4e3a-b760-0a4e1ef4e5bd",
   "metadata": {},
   "outputs": [],
   "source": [
    "data = pd.read_csv(\"housing.csv\")"
   ]
  },
  {
   "cell_type": "code",
   "execution_count": null,
   "id": "b68228b7-66aa-4ec6-9cfb-876f85801355",
   "metadata": {},
   "outputs": [],
   "source": [
    "data"
   ]
  },
  {
   "cell_type": "code",
   "execution_count": null,
   "id": "6bdcdcc3-3adc-42ed-aa16-cad3e5ea0560",
   "metadata": {},
   "outputs": [],
   "source": [
    "data.info()"
   ]
  },
  {
   "cell_type": "code",
   "execution_count": 5,
   "id": "28cf459a-d55a-444b-97d6-2e4caa829bc1",
   "metadata": {},
   "outputs": [],
   "source": [
    "data.dropna(inplace = True)"
   ]
  },
  {
   "cell_type": "code",
   "execution_count": null,
   "id": "6cd1167a-8d8d-46cf-8a22-855964d5ec99",
   "metadata": {},
   "outputs": [],
   "source": [
    "data.info()"
   ]
  },
  {
   "cell_type": "code",
   "execution_count": 7,
   "id": "ff016eba-8df0-418e-bbce-dc3952f7aaac",
   "metadata": {},
   "outputs": [],
   "source": [
    "from sklearn.model_selection import train_test_split\n",
    "\n",
    "x = data.drop(['median_house_value'], axis = 1)\n",
    "y = data['median_house_value']"
   ]
  },
  {
   "cell_type": "code",
   "execution_count": 8,
   "id": "50395dd9-b627-4286-8e40-539227ac48fe",
   "metadata": {},
   "outputs": [],
   "source": [
    "x_train, x_test, y_train, y_test = train_test_split(x,y,test_size=0.2)"
   ]
  },
  {
   "cell_type": "code",
   "execution_count": 9,
   "id": "11c9542f-af24-4624-88ed-44ef529267bc",
   "metadata": {},
   "outputs": [],
   "source": [
    "train_data = x_train.join(y_train)"
   ]
  },
  {
   "cell_type": "code",
   "execution_count": null,
   "id": "1becae65-9c4e-4a63-9d4d-2cd56918392a",
   "metadata": {},
   "outputs": [],
   "source": [
    "train_data"
   ]
  },
  {
   "cell_type": "code",
   "execution_count": null,
   "id": "ca1aef91-4536-427a-83db-051f66567d4e",
   "metadata": {},
   "outputs": [],
   "source": [
    "train_data.hist(figsize= (15,8))"
   ]
  },
  {
   "cell_type": "code",
   "execution_count": null,
   "id": "897c3d64-1f4f-4db3-899c-077deea8f991",
   "metadata": {},
   "outputs": [],
   "source": [
    "plt.figure(figsize=(15, 8))\n",
    "sns.heatmap(train_data.corr(),annot=True,cmap='YlGnBu')"
   ]
  },
  {
   "cell_type": "code",
   "execution_count": 13,
   "id": "d7dffd0e-c388-4b20-b3bf-9c24db0c1c51",
   "metadata": {},
   "outputs": [],
   "source": [
    "train_data['total_rooms'] = np.log(train_data['total_rooms'] + 1) \n",
    "train_data['total_bedrooms'] = np.log(train_data['total_bedrooms'] + 1) \n",
    "train_data['population'] = np.log(train_data['population'] + 1) \n",
    "train_data['households'] = np.log(train_data['households'] + 1) "
   ]
  },
  {
   "cell_type": "code",
   "execution_count": null,
   "id": "eac869d6-5cbc-44e9-aa3c-e77bfd234c25",
   "metadata": {},
   "outputs": [],
   "source": [
    "train_data.hist(figsize = (15,8))"
   ]
  },
  {
   "cell_type": "code",
   "execution_count": 15,
   "id": "c68328c9-16f0-4d47-8f2d-18a20556d01f",
   "metadata": {},
   "outputs": [],
   "source": [
    "train_data = train_data.join(pd.get_dummies(train_data['ocean_proximity']))\n",
    "\n",
    "# Drop the original 'ocean_proximity' column\n",
    "train_data = train_data.drop(['ocean_proximity'], axis=1)"
   ]
  },
  {
   "cell_type": "code",
   "execution_count": null,
   "id": "6b0cc739-3124-427a-928c-857701da5d86",
   "metadata": {},
   "outputs": [],
   "source": [
    "train_data"
   ]
  },
  {
   "cell_type": "code",
   "execution_count": null,
   "id": "ff4a4eda-3c19-4abb-8185-df59d41b9284",
   "metadata": {},
   "outputs": [],
   "source": [
    "plt.figure(figsize=(15, 8))\n",
    "sns.heatmap(train_data.corr(),annot=True,cmap='YlGnBu')"
   ]
  },
  {
   "cell_type": "code",
   "execution_count": null,
   "id": "1dee9b19-c1b9-49dd-938f-4fc6d2b9e6f9",
   "metadata": {},
   "outputs": [],
   "source": [
    "plt.figure(figsize = (15,8))\n",
    "sns.scatterplot(x = 'latitude',  y = 'longitude', data = train_data, hue = \"median_house_value\", palette = \"coolwarm\")"
   ]
  },
  {
   "cell_type": "code",
   "execution_count": 19,
   "id": "06f145df-619b-47f2-bf81-d6cba0fc9b8d",
   "metadata": {},
   "outputs": [],
   "source": [
    "train_data['bedroom_ratio'] = train_data['total_bedrooms'] / train_data['total_rooms']\n",
    "train_data['household_rooms'] = train_data['total_rooms'] / train_data['households']"
   ]
  },
  {
   "cell_type": "code",
   "execution_count": null,
   "id": "6360e8f7-c6df-4b6d-b08d-85f7ecea2f8a",
   "metadata": {},
   "outputs": [],
   "source": [
    "plt.figure(figsize=(15, 8))\n",
    "sns.heatmap(train_data.corr(),annot=True,cmap='YlGnBu')"
   ]
  },
  {
   "cell_type": "code",
   "execution_count": null,
   "id": "66f5a384-7247-4b57-8b2b-25bda2adaac7",
   "metadata": {
    "scrolled": true
   },
   "outputs": [],
   "source": [
    "from sklearn.linear_model import LinearRegression\n",
    "from sklearn.preprocessing import StandardScaler\n",
    "\n",
    "scaler = StandardScaler()\n",
    "\n",
    "x_train,y_train = train_data.drop(['median_house_value'], axis=1),train_data['median_house_value']\n",
    "x_train_s = scaler.fit_transform(x_train)\n",
    "\n",
    "reg = LinearRegression()\n",
    "reg.fit(x_train, y_train)"
   ]
  },
  {
   "cell_type": "code",
   "execution_count": 22,
   "id": "70ae3b48-79c1-4fec-bc1c-86f784cc81f6",
   "metadata": {},
   "outputs": [],
   "source": [
    "test_data = x_test.join(y_test)\n",
    "\n",
    "test_data['total_rooms'] = np.log(test_data['total_rooms'] + 1)\n",
    "test_data['total_bedrooms'] = np.log(test_data['total_bedrooms'] + 1)\n",
    "test_data['population'] = np.log(test_data['population'] + 1)\n",
    "test_data['households'] = np.log(test_data['households'] + 1)\n",
    "\n",
    "test_data = test_data.join(pd.get_dummies(test_data['ocean_proximity']))\n",
    "test_data = test_data.drop(['ocean_proximity'], axis=1)\n",
    "\n",
    "test_data['bedroom_ratio'] = test_data['total_bedrooms'] / test_data['total_rooms']\n",
    "test_data['household_rooms'] = test_data['total_rooms'] / test_data['households']\n"
   ]
  },
  {
   "cell_type": "code",
   "execution_count": 23,
   "id": "45b8bf87-1c2d-4079-bd19-73afe4161619",
   "metadata": {},
   "outputs": [],
   "source": [
    "x_test = test_data.drop(['median_house_value'], axis=1)\n",
    "y_test = test_data['median_house_value']"
   ]
  },
  {
   "cell_type": "code",
   "execution_count": 24,
   "id": "2c88c335-4bff-4c57-a597-39fb5ebae713",
   "metadata": {},
   "outputs": [],
   "source": [
    "x_test_s = scaler.transform(x_test)"
   ]
  },
  {
   "cell_type": "code",
   "execution_count": null,
   "id": "cc3af4a8-19c0-4bda-934f-d4f4191aa034",
   "metadata": {},
   "outputs": [],
   "source": [
    "reg.score(x_test_s, y_test)"
   ]
  },
  {
   "cell_type": "code",
   "execution_count": null,
   "id": "3a1d3c8c-ef75-411f-9313-47cbbe387ba8",
   "metadata": {},
   "outputs": [],
   "source": [
    "from sklearn.ensemble import RandomForestRegressor\n",
    "\n",
    "forest = RandomForestRegressor()\n",
    "\n",
    "forest.fit(x_train_s, y_train)"
   ]
  },
  {
   "cell_type": "code",
   "execution_count": null,
   "id": "e2d3d2fd-5edd-4c54-b28b-3e416980a15e",
   "metadata": {},
   "outputs": [],
   "source": [
    "forest.score(x_test_s, y_test)"
   ]
  },
  {
   "cell_type": "code",
   "execution_count": null,
   "id": "6d8558ea-7730-406e-b923-6f9ad2cb9f4e",
   "metadata": {},
   "outputs": [],
   "source": [
    "from sklearn.model_selection import GridSearchCV\n",
    "\n",
    "forest = RandomForestRegressor()\n",
    "param_grid = {\n",
    "    \"n_estimators\": [30,50,100],\n",
    "    \"max_features\" : [8,12,20],\n",
    "    \"min_samples_split\":[2,4,6,8]\n",
    "}\n",
    "\n",
    "grid_search = GridSearchCV(forest, param_grid,cv = 5,\n",
    "                          scoring = \"neg_mean_squared_error\",\n",
    "                          return_train_score = True)\n",
    "\n",
    "grid_search.fit(x_train_s, y_train)"
   ]
  },
  {
   "cell_type": "code",
   "execution_count": 30,
   "id": "08efe43a-f776-46c5-b07e-abb3874384d4",
   "metadata": {},
   "outputs": [],
   "source": [
    "best_forest = grid_search.best_estimator_"
   ]
  },
  {
   "cell_type": "code",
   "execution_count": null,
   "id": "eadbe59f-1a5a-424a-b395-960b21a60c73",
   "metadata": {},
   "outputs": [],
   "source": [
    "best_forest.score(x_test_s, y_test)"
   ]
  },
  {
   "cell_type": "code",
   "execution_count": null,
   "id": "e5061a3d-c789-4c1c-b712-b4df822472ca",
   "metadata": {},
   "outputs": [],
   "source": [
    "grid_search.best_estimator_"
   ]
  },
  {
   "cell_type": "code",
   "execution_count": null,
   "id": "d062d4d2-79de-4c07-b750-f81b80eaf33f",
   "metadata": {},
   "outputs": [],
   "source": [
    "grid_search.best_estimator_.score(x_test_s,y_test)"
   ]
  },
  {
   "cell_type": "code",
   "execution_count": null,
   "id": "dc283df9-bc16-44a1-9b41-72701ccf17f8",
   "metadata": {},
   "outputs": [],
   "source": []
  }
 ],
 "metadata": {
  "kernelspec": {
   "display_name": "Python 3",
   "language": "python",
   "name": "python3"
  },
  "language_info": {
   "codemirror_mode": {
    "name": "ipython",
    "version": 3
   },
   "file_extension": ".py",
   "mimetype": "text/x-python",
   "name": "python",
   "nbconvert_exporter": "python",
   "pygments_lexer": "ipython3",
   "version": "3.13.0"
  }
 },
 "nbformat": 4,
 "nbformat_minor": 5
}
